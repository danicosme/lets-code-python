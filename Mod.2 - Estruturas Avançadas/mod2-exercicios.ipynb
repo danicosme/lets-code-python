{
 "cells": [
  {
   "cell_type": "markdown",
   "metadata": {},
   "source": [
    "# Módulo 2 - Estruturas Avançadas"
   ]
  },
  {
   "cell_type": "markdown",
   "metadata": {},
   "source": [
    "#### 1. Faça um programa que olhe todos os itens de uma lista e diga quantos deles são pares"
   ]
  },
  {
   "cell_type": "code",
   "execution_count": 3,
   "metadata": {},
   "outputs": [
    {
     "name": "stdout",
     "output_type": "stream",
     "text": [
      "Lista gerada: [7, 21, 23, 24, 12, 16, 9, 27, 3, 27, 21]\n",
      "A lista gerada possuí 3 valores pares. Lista com os valores pares: [24, 12, 16]\n"
     ]
    }
   ],
   "source": [
    "from random import randint\n",
    "\n",
    "lista_inteiros = []\n",
    "\n",
    "for item in range(11):\n",
    "    lista_inteiros.append(randint(1,30))\n",
    "\n",
    "print(f'Lista gerada: {lista_inteiros}')\n",
    "\n",
    "lista_pares = []\n",
    "for item in lista_inteiros:\n",
    "    if item % 2 == 0:\n",
    "        lista_pares.append(item)\n",
    "\n",
    "print(f'A lista gerada possuí {len(lista_pares)} valores pares. Lista com os valores pares: {lista_pares}')"
   ]
  },
  {
   "cell_type": "markdown",
   "metadata": {},
   "source": [
    "#### 2. Faça um programa que peça para o usuário digitar uma palavra e imprima cada letra em uma linha."
   ]
  },
  {
   "cell_type": "code",
   "execution_count": 4,
   "metadata": {},
   "outputs": [
    {
     "name": "stdout",
     "output_type": "stream",
     "text": [
      "p\n",
      "y\n",
      "t\n",
      "h\n",
      "o\n",
      "n\n"
     ]
    }
   ],
   "source": [
    "palavra = input('Digite uma palavra: ')\n",
    "\n",
    "for item in palavra:\n",
    "    print(item)"
   ]
  },
  {
   "cell_type": "markdown",
   "metadata": {},
   "source": [
    "#### 3. Faça uma função que recebe duas listas e retorna a soma item a item dessas listas.\n",
    "#### Exemplo: Se a função receber as listas [1,4,3] e [3,5,1], então a função deve retornar [1+3, 4+5, 3+1] = [4, 9, 4].\n"
   ]
  },
  {
   "cell_type": "code",
   "execution_count": 39,
   "metadata": {},
   "outputs": [
    {
     "name": "stdout",
     "output_type": "stream",
     "text": [
      "Lista 1: [5, 6, 10, 7] \n",
      "Lista 2: [3, 4, 1, 9]\n",
      "Lista final: [6, 17, 15, 8, 8, 10, 11, 16]\n"
     ]
    }
   ],
   "source": [
    "from random import randint\n",
    "\n",
    "def gera_listas():\n",
    "    lista_1 = []\n",
    "    lista_2 = []\n",
    "    lista_final = []\n",
    "\n",
    "    while len(lista_1) < 4 and len(lista_2) < 4:\n",
    "        numero_1 = randint(1,10)\n",
    "        numero_2 = randint(1,10)\n",
    "\n",
    "        if (numero_1 not in lista_1) and (numero_2 not in lista_2):\n",
    "            lista_1.append(numero_1)\n",
    "            lista_2.append(numero_2)\n",
    "    \n",
    "    return lista_1, lista_2\n",
    "\n",
    "def soma_listas(lista_1, lista_2):\n",
    "    for i1, i2 in zip(lista_1, lista_2):\n",
    "        lista_final.append(i1+i2)\n",
    "    \n",
    "    return lista_final\n",
    "\n",
    "\n",
    "# Programa principal\n",
    "lista_1, lista_2 = gera_listas()\n",
    "print(f'Lista 1: {lista_1} \\nLista 2: {lista_2}')\n",
    "\n",
    "lista_final = soma_listas(lista_1, lista_2)\n",
    "\n",
    "print(f'Lista final: {lista_final}')\n",
    "\n"
   ]
  },
  {
   "cell_type": "markdown",
   "metadata": {},
   "source": [
    "#### 4. Crie um dicionário cujas chaves são os meses do ano e os valores são a duração (em dias) de cada mês.\n"
   ]
  },
  {
   "cell_type": "code",
   "execution_count": 41,
   "metadata": {},
   "outputs": [
    {
     "name": "stdout",
     "output_type": "stream",
     "text": [
      "{'janeiro': 31, 'fevereiro': 28, 'março': 31, 'abril': 30, 'maio': 31, 'junho': 30, 'julho': 31, 'agosto': 31, 'setembro': 30, 'outubro': 31, 'novembro': 30, 'dezembro': 31}\n"
     ]
    }
   ],
   "source": [
    "ano = {\n",
    "    'janeiro': 31,\n",
    "    'fevereiro': 28,\n",
    "    'março': 31,\n",
    "    'abril': 30,\n",
    "    'maio': 31,\n",
    "    'junho': 30,\n",
    "    'julho': 31,\n",
    "    'agosto': 31,\n",
    "    'setembro': 30,\n",
    "    'outubro': 31,\n",
    "    'novembro': 30,\n",
    "    'dezembro': 31,\n",
    "}\n",
    "\n",
    "print(ano)"
   ]
  },
  {
   "cell_type": "markdown",
   "metadata": {},
   "source": [
    "#### 5. Imprima as chaves seguidas dos seus valores para dicionário criado no exercício anterior.\n",
    "#### Exemplo:\n",
    "#### Janeiro - 31\n",
    "#### Fevereiro - 28\n",
    "#### Março - 31\n",
    "#### Etc.."
   ]
  },
  {
   "cell_type": "code",
   "execution_count": 45,
   "metadata": {},
   "outputs": [
    {
     "name": "stdout",
     "output_type": "stream",
     "text": [
      "janeiro - 31\n",
      "fevereiro - 28\n",
      "março - 31\n",
      "abril - 30\n",
      "maio - 31\n",
      "junho - 30\n",
      "julho - 31\n",
      "agosto - 31\n",
      "setembro - 30\n",
      "outubro - 31\n",
      "novembro - 30\n",
      "dezembro - 31\n"
     ]
    }
   ],
   "source": [
    "for item in ano:\n",
    "    print(f\"{item} - {ano[item]}\")"
   ]
  }
 ],
 "metadata": {
  "kernelspec": {
   "display_name": "Python 3.10.7 64-bit",
   "language": "python",
   "name": "python3"
  },
  "language_info": {
   "codemirror_mode": {
    "name": "ipython",
    "version": 3
   },
   "file_extension": ".py",
   "mimetype": "text/x-python",
   "name": "python",
   "nbconvert_exporter": "python",
   "pygments_lexer": "ipython3",
   "version": "3.10.7"
  },
  "orig_nbformat": 4,
  "vscode": {
   "interpreter": {
    "hash": "1f94df7a1b0a5209ad346ecc56b4888bedfc9b19382cb7a11897d6f00c79b3c7"
   }
  }
 },
 "nbformat": 4,
 "nbformat_minor": 2
}
