{
 "cells": [
  {
   "cell_type": "markdown",
   "metadata": {},
   "source": [
    "# Módulo 1 - Basics"
   ]
  },
  {
   "cell_type": "markdown",
   "metadata": {},
   "source": [
    "#### 1 - Faça um programa que peça um valor monetário e diminua-o em 15%. Seu programa deve imprimir a mensagem “O novo valor é [valor]”."
   ]
  },
  {
   "cell_type": "code",
   "execution_count": 15,
   "metadata": {},
   "outputs": [
    {
     "name": "stdout",
     "output_type": "stream",
     "text": [
      "O novo valor é R$85.0\n"
     ]
    }
   ],
   "source": [
    "valor = float(input('Digite um valor monetário: R$'))\n",
    "\n",
    "valor_atualizado = valor - (valor * 0.15)\n",
    "\n",
    "print(f'O novo valor é R${valor_atualizado}')"
   ]
  },
  {
   "cell_type": "markdown",
   "metadata": {},
   "source": [
    "#### 2. Faça um programa que leia a validade das informações:\n",
    "#### a. Idade: entre 0 e 150;\n",
    "#### b. Salário: maior que 0;\n",
    "#### c. Sexo: M, F ou Outro;\n",
    "#### O programa deve imprimir uma mensagem de erro para cada informação inválida.\n",
    "\n"
   ]
  },
  {
   "cell_type": "code",
   "execution_count": 35,
   "metadata": {},
   "outputs": [
    {
     "name": "stdout",
     "output_type": "stream",
     "text": [
      "Idade válida!\n",
      "Salário válido!\n",
      "Sexo válido!\n"
     ]
    }
   ],
   "source": [
    "idade = int(input('Informe a idade (Entre 0 e 150): '))\n",
    "salario = float(input('Informe o salário (Maior que 0): '))\n",
    "sexo = input('Informe o sexo (F, M ou Outros): ')\n",
    "\n",
    "if idade < 0  or idade > 150:\n",
    "    print('Erro! A idade informada deve estar entre 0 e 150.')\n",
    "else:\n",
    "    print('Idade válida!')\n",
    "\n",
    "if salario < 1:\n",
    "    print('Erro! O salário informado deve ser maior que 0.')\n",
    "else:\n",
    "    print('Salário válido!')\n",
    "\n",
    "if sexo.lower() not in 'fmoutros':\n",
    "    print('Erro! O sexo deve ser informado como F, M ou Outros.')\n",
    "else:\n",
    "    print('Sexo válido!')\n"
   ]
  },
  {
   "cell_type": "markdown",
   "metadata": {},
   "source": [
    "#### 3. Vamos fazer um programa para verificar quem é o assassino de um crime. \n",
    "#### Para descobrir o assassino, a polícia faz um pequeno questionário com 5 perguntas onde a resposta só pode ser sim ou não:\n",
    "#### a. Mora perto da vítima?\n",
    "#### b. Já trabalhou com a vítima?\n",
    "#### c. Telefonou para a vítima?\n",
    "#### d. Esteve no local do crime?\n",
    "#### e. Devia para a vítima?\n",
    "#### Cada resposta sim dá um ponto para o suspeito. A polícia considera que os suspeitos com 5 pontos são os assassinos, com 4 a 3 pontos são cúmplices e 2 pontos são apenas suspeitos, necessitando outras investigações. Valores iguais ou abaixo de 1 são liberados"
   ]
  },
  {
   "cell_type": "code",
   "execution_count": 43,
   "metadata": {},
   "outputs": [
    {
     "name": "stdout",
     "output_type": "stream",
     "text": [
      "Liberado\n"
     ]
    }
   ],
   "source": [
    "mora = input('Mora perto da vítima? [S/N]')\n",
    "trabalhou = input('Já trabalhou com a vítima? [S/N]')\n",
    "telefonou = input('Telefonou para a vítima? [S/N]')\n",
    "visitou_local = input('Esteve no local do crime? [S/N]')\n",
    "devia = input('Devia para a vítima? [S/N]')\n",
    "\n",
    "pontos = 0\n",
    "if mora in 'simSIMsS':\n",
    "    pontos += 1\n",
    "if trabalhou in 'simSIMsS':\n",
    "    pontos += 1\n",
    "if telefonou in 'simSIMsS':\n",
    "    pontos += 1\n",
    "if visitou_local in 'simSIMsS':\n",
    "    pontos += 1\n",
    "if devia in 'simSIMsS':\n",
    "    pontos += 1\n",
    "\n",
    "if pontos == 5:\n",
    "    print('Assassino')\n",
    "elif pontos in (3,4):\n",
    "    print('Cúmplice')\n",
    "elif pontos == 2:\n",
    "    print('Suspeito')\n",
    "else:\n",
    "    print('Liberado')"
   ]
  },
  {
   "cell_type": "markdown",
   "metadata": {},
   "source": [
    "#### 4. Faça um programa que imprima a tabuada do 9 (de 9 * 1 a 9 * 10) usando loops"
   ]
  },
  {
   "cell_type": "code",
   "execution_count": 19,
   "metadata": {},
   "outputs": [
    {
     "name": "stdout",
     "output_type": "stream",
     "text": [
      "--------------------\n",
      "    Tabuada do 9    \n",
      "--------------------\n",
      "     9 x 1 = 9      \n",
      "     9 x 2 = 18     \n",
      "     9 x 3 = 27     \n",
      "     9 x 4 = 36     \n",
      "     9 x 5 = 45     \n",
      "     9 x 6 = 54     \n",
      "     9 x 7 = 63     \n",
      "     9 x 8 = 72     \n",
      "     9 x 9 = 81     \n",
      "    9 x 10 = 90     \n"
     ]
    }
   ],
   "source": [
    "print('-'*20)\n",
    "print('Tabuada do 9'.center(20))\n",
    "print('-'*20)\n",
    "\n",
    "for valor in range(1,11):\n",
    "    print(f'9 x {valor} = {9 * valor}'.center(20))"
   ]
  }
 ],
 "metadata": {
  "kernelspec": {
   "display_name": "Python 3.10.7 64-bit",
   "language": "python",
   "name": "python3"
  },
  "language_info": {
   "codemirror_mode": {
    "name": "ipython",
    "version": 3
   },
   "file_extension": ".py",
   "mimetype": "text/x-python",
   "name": "python",
   "nbconvert_exporter": "python",
   "pygments_lexer": "ipython3",
   "version": "3.10.7"
  },
  "orig_nbformat": 4,
  "vscode": {
   "interpreter": {
    "hash": "1f94df7a1b0a5209ad346ecc56b4888bedfc9b19382cb7a11897d6f00c79b3c7"
   }
  }
 },
 "nbformat": 4,
 "nbformat_minor": 2
}
